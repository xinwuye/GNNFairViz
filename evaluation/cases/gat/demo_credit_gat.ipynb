{
 "cells": [
  {
   "cell_type": "code",
   "execution_count": null,
   "metadata": {},
   "outputs": [],
   "source": [
    "import holoviews as hv\n",
    "import torch\n",
    "import numpy as np\n",
    "import dgl\n",
    "import dgl.nn as dglnn\n",
    "import torch\n",
    "import torch.nn as nn\n",
    "import torch.nn.functional as F\n",
    "import torch\n",
    "import torch.nn as nn\n",
    "import numpy as np\n",
    "import sys\n",
    "import panel as pn\n",
    "pn.extension()\n",
    "hv.extension('bokeh')\n",
    "\n",
    "sys.path.append('../../..')\n",
    "from pyeug import eug\n",
    "sys.path.remove('../../..')\n",
    "\n",
    "sys.path.append('../..')\n",
    "from models.gat import GAT, get_embeddings\n",
    "from datasets import Credit\n",
    "from util import preprocess_credit, train\n",
    "sys.path.remove('../..')\n",
    "\n",
    "credit = Credit()\n",
    "g, adj, features, sens, sens_names, masks, labels, feat_names = preprocess_credit(credit)\n",
    "\n",
    "# create GAT model\n",
    "device = torch.device(\"cuda\" if torch.cuda.is_available() else \"cpu\")\n",
    "in_size = features.shape[1]\n",
    "out_size = int(sum(labels.unique() != -1))\n",
    "model = GAT(in_size, 8, out_size, heads=[8, 1]).to(device)"
   ]
  },
  {
   "cell_type": "markdown",
   "metadata": {},
   "source": [
    "# training"
   ]
  },
  {
   "cell_type": "code",
   "execution_count": 2,
   "metadata": {},
   "outputs": [
    {
     "name": "stderr",
     "output_type": "stream",
     "text": [
      "Epochs:   0%|          | 6/2000 [00:01<06:08,  5.40it/s]"
     ]
    },
    {
     "name": "stdout",
     "output_type": "stream",
     "text": [
      "Epoch 00000 | Loss 2.0407 | Val Accuracy 0.4060 | Val F1 0.4357\n"
     ]
    },
    {
     "name": "stderr",
     "output_type": "stream",
     "text": [
      "Epochs:   6%|▌         | 110/2000 [00:03<00:42, 44.45it/s]"
     ]
    },
    {
     "name": "stdout",
     "output_type": "stream",
     "text": [
      "Epoch 00100 | Loss 0.6736 | Val Accuracy 0.7035 | Val F1 0.7212\n"
     ]
    },
    {
     "name": "stderr",
     "output_type": "stream",
     "text": [
      "Epochs:  10%|█         | 205/2000 [00:05<00:40, 44.08it/s]"
     ]
    },
    {
     "name": "stdout",
     "output_type": "stream",
     "text": [
      "Epoch 00200 | Loss 0.6729 | Val Accuracy 0.7061 | Val F1 0.7233\n"
     ]
    },
    {
     "name": "stderr",
     "output_type": "stream",
     "text": [
      "Epochs:  16%|█▌        | 310/2000 [00:08<00:37, 45.05it/s]"
     ]
    },
    {
     "name": "stdout",
     "output_type": "stream",
     "text": [
      "Epoch 00300 | Loss 0.6644 | Val Accuracy 0.7105 | Val F1 0.7264\n"
     ]
    },
    {
     "name": "stderr",
     "output_type": "stream",
     "text": [
      "Epochs:  20%|██        | 405/2000 [00:10<00:35, 44.61it/s]"
     ]
    },
    {
     "name": "stdout",
     "output_type": "stream",
     "text": [
      "Epoch 00400 | Loss 0.6615 | Val Accuracy 0.7084 | Val F1 0.7249\n"
     ]
    },
    {
     "name": "stderr",
     "output_type": "stream",
     "text": [
      "Epochs:  26%|██▌       | 510/2000 [00:12<00:33, 44.64it/s]"
     ]
    },
    {
     "name": "stdout",
     "output_type": "stream",
     "text": [
      "Epoch 00500 | Loss 0.6672 | Val Accuracy 0.7087 | Val F1 0.7251\n"
     ]
    },
    {
     "name": "stderr",
     "output_type": "stream",
     "text": [
      "Epochs:  30%|███       | 605/2000 [00:14<00:31, 44.45it/s]"
     ]
    },
    {
     "name": "stdout",
     "output_type": "stream",
     "text": [
      "Epoch 00600 | Loss 0.6708 | Val Accuracy 0.7087 | Val F1 0.7251\n"
     ]
    },
    {
     "name": "stderr",
     "output_type": "stream",
     "text": [
      "Epochs:  36%|███▌      | 710/2000 [00:17<00:28, 44.69it/s]"
     ]
    },
    {
     "name": "stdout",
     "output_type": "stream",
     "text": [
      "Epoch 00700 | Loss 0.6674 | Val Accuracy 0.7087 | Val F1 0.7251\n"
     ]
    },
    {
     "name": "stderr",
     "output_type": "stream",
     "text": [
      "Epochs:  40%|████      | 810/2000 [00:19<00:26, 44.93it/s]"
     ]
    },
    {
     "name": "stdout",
     "output_type": "stream",
     "text": [
      "Epoch 00800 | Loss 0.6696 | Val Accuracy 0.7087 | Val F1 0.7251\n"
     ]
    },
    {
     "name": "stderr",
     "output_type": "stream",
     "text": [
      "Epochs:  46%|████▌     | 910/2000 [00:21<00:24, 44.71it/s]"
     ]
    },
    {
     "name": "stdout",
     "output_type": "stream",
     "text": [
      "Epoch 00900 | Loss 0.6682 | Val Accuracy 0.7087 | Val F1 0.7251\n"
     ]
    },
    {
     "name": "stderr",
     "output_type": "stream",
     "text": [
      "Epochs:  50%|█████     | 1010/2000 [00:24<00:22, 44.84it/s]"
     ]
    },
    {
     "name": "stdout",
     "output_type": "stream",
     "text": [
      "Epoch 01000 | Loss 0.6669 | Val Accuracy 0.7087 | Val F1 0.7251\n"
     ]
    },
    {
     "name": "stderr",
     "output_type": "stream",
     "text": [
      "Epochs:  55%|█████▌    | 1105/2000 [00:26<00:20, 43.99it/s]"
     ]
    },
    {
     "name": "stdout",
     "output_type": "stream",
     "text": [
      "Epoch 01100 | Loss 0.6679 | Val Accuracy 0.7087 | Val F1 0.7251\n"
     ]
    },
    {
     "name": "stderr",
     "output_type": "stream",
     "text": [
      "Epochs:  60%|██████    | 1210/2000 [00:28<00:17, 44.94it/s]"
     ]
    },
    {
     "name": "stdout",
     "output_type": "stream",
     "text": [
      "Epoch 01200 | Loss 0.6637 | Val Accuracy 0.7087 | Val F1 0.7251\n"
     ]
    },
    {
     "name": "stderr",
     "output_type": "stream",
     "text": [
      "Epochs:  66%|██████▌   | 1310/2000 [00:30<00:15, 44.88it/s]"
     ]
    },
    {
     "name": "stdout",
     "output_type": "stream",
     "text": [
      "Epoch 01300 | Loss 0.6712 | Val Accuracy 0.7087 | Val F1 0.7251\n"
     ]
    },
    {
     "name": "stderr",
     "output_type": "stream",
     "text": [
      "Epochs:  70%|███████   | 1405/2000 [00:32<00:13, 44.54it/s]"
     ]
    },
    {
     "name": "stdout",
     "output_type": "stream",
     "text": [
      "Epoch 01400 | Loss 0.6687 | Val Accuracy 0.7087 | Val F1 0.7251\n"
     ]
    },
    {
     "name": "stderr",
     "output_type": "stream",
     "text": [
      "Epochs:  75%|███████▌  | 1505/2000 [00:35<00:11, 43.94it/s]"
     ]
    },
    {
     "name": "stdout",
     "output_type": "stream",
     "text": [
      "Epoch 01500 | Loss 0.6680 | Val Accuracy 0.7087 | Val F1 0.7251\n"
     ]
    },
    {
     "name": "stderr",
     "output_type": "stream",
     "text": [
      "Epochs:  76%|███████▌  | 1511/2000 [00:35<00:11, 42.86it/s]"
     ]
    },
    {
     "name": "stdout",
     "output_type": "stream",
     "text": [
      "Early stopping triggered.\n"
     ]
    },
    {
     "name": "stderr",
     "output_type": "stream",
     "text": [
      "\n"
     ]
    }
   ],
   "source": [
    "train(g, features, labels, masks, model, save_path='demo_credit_gat.pth')"
   ]
  },
  {
   "cell_type": "code",
   "execution_count": null,
   "metadata": {},
   "outputs": [
    {
     "data": {
      "text/plain": [
       "GAT(\n",
       "  (gat_layers): ModuleList(\n",
       "    (0): GATConv(\n",
       "      (fc): Linear(in_features=12, out_features=64, bias=False)\n",
       "      (feat_drop): Dropout(p=0.6, inplace=False)\n",
       "      (attn_drop): Dropout(p=0.6, inplace=False)\n",
       "      (leaky_relu): LeakyReLU(negative_slope=0.2)\n",
       "    )\n",
       "    (1): GATConv(\n",
       "      (fc): Linear(in_features=64, out_features=2, bias=False)\n",
       "      (feat_drop): Dropout(p=0.6, inplace=False)\n",
       "      (attn_drop): Dropout(p=0.6, inplace=False)\n",
       "      (leaky_relu): LeakyReLU(negative_slope=0.2)\n",
       "    )\n",
       "  )\n",
       "  (mlp): Linear(in_features=2, out_features=2, bias=True)\n",
       ")"
      ]
     },
     "execution_count": 2,
     "metadata": {},
     "output_type": "execute_result"
    }
   ],
   "source": [
    "# load the model\n",
    "model.load_state_dict(torch.load('demo_credit_gat.pth'))\n",
    "model.eval()"
   ]
  },
  {
   "cell_type": "markdown",
   "metadata": {},
   "source": [
    "# fairness analysis"
   ]
  },
  {
   "cell_type": "code",
   "execution_count": 3,
   "metadata": {},
   "outputs": [
    {
     "name": "stderr",
     "output_type": "stream",
     "text": [
      "/home/newdisk/xinwu/anaconda3/envs/holoviews_clone/lib/python3.11/site-packages/umap/umap_.py:1943: UserWarning: n_jobs value -1 overridden to 1 by setting random_state. Use no seed for parallelism.\n",
      "  warn(f\"n_jobs value {self.n_jobs} overridden to 1 by setting random_state. Use no seed for parallelism.\")\n",
      "/home/newdisk/xinwu/anaconda3/envs/holoviews_clone/lib/python3.11/site-packages/umap/umap_.py:1943: UserWarning: n_jobs value -1 overridden to 1 by setting random_state. Use no seed for parallelism.\n",
      "  warn(f\"n_jobs value {self.n_jobs} overridden to 1 by setting random_state. Use no seed for parallelism.\")\n",
      "100%|██████████| 12/12 [00:02<00:00,  4.23it/s]\n"
     ]
    },
    {
     "name": "stdout",
     "output_type": "stream",
     "text": [
      "tensor([1.0000, 0.2182, 0.1925,  ..., 0.1361, 0.0870, 1.0000], device='cuda:0')\n",
      "nnz 274754\n"
     ]
    },
    {
     "name": "stderr",
     "output_type": "stream",
     "text": [
      "100%|██████████| 274754/274754 [00:41<00:00, 6609.11it/s] \n",
      "100%|██████████| 57/57 [00:00<00:00, 133.88it/s]\n"
     ]
    },
    {
     "name": "stdout",
     "output_type": "stream",
     "text": [
      "Launching server at http://localhost:45788\n"
     ]
    },
    {
     "name": "stderr",
     "output_type": "stream",
     "text": [
      "WARNING:param.Scatter: Chart elements should only be supplied a single kdim\n",
      "WARNING:param.Scatter: Chart elements should only be supplied a single kdim\n",
      "WARNING:param.Scatter: Chart elements should only be supplied a single kdim\n",
      "100%|██████████| 12/12 [00:02<00:00,  4.24it/s]\n",
      "WARNING:param.Scatter: Chart elements should only be supplied a single kdim\n"
     ]
    }
   ],
   "source": [
    "e = eug.EUG(model, adj, features, sens, sens_names, masks, labels, get_embeddings, feat_names=feat_names)\n",
    "app = e.show()\n",
    "server = pn.serve(app, port=45788)"
   ]
  },
  {
   "cell_type": "code",
   "execution_count": 4,
   "metadata": {},
   "outputs": [],
   "source": [
    "server.stop()"
   ]
  },
  {
   "cell_type": "markdown",
   "metadata": {},
   "source": [
    "# check attention weight distribution"
   ]
  },
  {
   "cell_type": "code",
   "execution_count": 3,
   "metadata": {},
   "outputs": [],
   "source": [
    "with torch.no_grad():\n",
    "    model(g, features)"
   ]
  },
  {
   "cell_type": "code",
   "execution_count": 25,
   "metadata": {},
   "outputs": [],
   "source": [
    "attn_weights = model.attn_weights"
   ]
  },
  {
   "cell_type": "code",
   "execution_count": 38,
   "metadata": {},
   "outputs": [],
   "source": [
    "groups = sens[0]\n",
    "unique_groups = np.unique(groups)\n",
    "n_unique_groups = unique_groups.size"
   ]
  },
  {
   "cell_type": "markdown",
   "metadata": {},
   "source": [
    "# original adj"
   ]
  },
  {
   "cell_type": "code",
   "execution_count": 45,
   "metadata": {},
   "outputs": [
    {
     "data": {
      "text/plain": [
       "tensor([[265679.,  16627.],\n",
       "        [ 16627.,   5821.]], device='cuda:0')"
      ]
     },
     "execution_count": 45,
     "metadata": {},
     "output_type": "execute_result"
    }
   ],
   "source": [
    "group_sums = torch.zeros((n_unique_groups, adj.shape[1])).to(device)\n",
    "# Iterate over each group, summing the corresponding rows\n",
    "for i, group in enumerate(unique_groups):\n",
    "    group_mask = torch.tensor(groups == group)  # Boolean array where True indicates the index belongs to group i\n",
    "    group_indices = torch.nonzero(group_mask).squeeze(-1).to(torch.long).to(device)  # Get the indices of the group\n",
    "    group_adj = torch.index_select(adj.to(device), 0, group_indices)\n",
    "    group_sums[i] = group_adj.sum(dim=0).to_dense()\n",
    "\n",
    "group_connection_matrix = torch.zeros((n_unique_groups, n_unique_groups)).to(device)\n",
    "# Iterate over each group to perform the extraction and summation of corresponding columns\n",
    "for i, group in enumerate(unique_groups):\n",
    "    group_mask = torch.tensor(groups == group)  # Boolean array where True indicates the index belongs to group i\n",
    "    group_indices = torch.nonzero(group_mask).squeeze(-1).to(torch.long).to(device)  # Get the indices of the group\n",
    "    group_group_sums = torch.index_select(group_sums, 1, group_indices)\n",
    "    sum_group_group_sums = group_group_sums.sum(dim=1).to_dense()\n",
    "    group_connection_matrix[i] = sum_group_group_sums\n",
    "group_connection_matrix"
   ]
  },
  {
   "cell_type": "markdown",
   "metadata": {},
   "source": [
    "# layer 0 weight matrix"
   ]
  },
  {
   "cell_type": "code",
   "execution_count": 52,
   "metadata": {},
   "outputs": [
    {
     "name": "stdout",
     "output_type": "stream",
     "text": [
      "tensor(indices=tensor([[    0,     0,     0,  ..., 29999, 29999, 29999],\n",
      "                       [    0,  9950, 23310,  ..., 16532, 24531, 29999]]),\n",
      "       values=tensor([1.9818, 0.9682, 0.1805,  ..., 0.4484, 1.3613, 1.1582]),\n",
      "       device='cuda:0', size=(30000, 30000), nnz=304754, layout=torch.sparse_coo)\n"
     ]
    }
   ],
   "source": [
    "import torch\n",
    "\n",
    "# Given adjacency matrix and attention weights\n",
    "adj_indices = adj.coalesce().indices().to(device)  # Get the indices from the adjacency matrix\n",
    "attn_weights0 = attn_weights[0].sum(dim=(1, 2)).view(-1).to(device)  # Flatten the attention weights\n",
    "\n",
    "# Create a new sparse matrix with attention weights as values\n",
    "attn_matrix = torch.sparse_coo_tensor(indices=adj_indices, values=attn_weights0, size=adj.size())\n",
    "\n",
    "# Check the new sparse matrix\n",
    "print(attn_matrix)"
   ]
  },
  {
   "cell_type": "code",
   "execution_count": 53,
   "metadata": {},
   "outputs": [
    {
     "data": {
      "text/plain": [
       "tensor([[203458.1250,  15061.8770],\n",
       "        [ 15120.4746,   6359.5244]], device='cuda:0')"
      ]
     },
     "execution_count": 53,
     "metadata": {},
     "output_type": "execute_result"
    }
   ],
   "source": [
    "group_sums = torch.zeros((n_unique_groups, adj.shape[1])).to(device)\n",
    "# Iterate over each group, summing the corresponding rows\n",
    "for i, group in enumerate(unique_groups):\n",
    "    group_mask = torch.tensor(groups == group)  # Boolean array where True indicates the index belongs to group i\n",
    "    group_indices = torch.nonzero(group_mask).squeeze(-1).to(torch.long).to(device)  # Get the indices of the group\n",
    "    group_adj = torch.index_select(attn_matrix, 0, group_indices)\n",
    "    group_sums[i] = group_adj.sum(dim=0).to_dense()\n",
    "\n",
    "group_connection_matrix = torch.zeros((n_unique_groups, n_unique_groups)).to(device)\n",
    "# Iterate over each group to perform the extraction and summation of corresponding columns\n",
    "for i, group in enumerate(unique_groups):\n",
    "    group_mask = torch.tensor(groups == group)  # Boolean array where True indicates the index belongs to group i\n",
    "    group_indices = torch.nonzero(group_mask).squeeze(-1).to(torch.long).to(device)  # Get the indices of the group\n",
    "    group_group_sums = torch.index_select(group_sums, 1, group_indices)\n",
    "    sum_group_group_sums = group_group_sums.sum(dim=1).to_dense()\n",
    "    group_connection_matrix[i] = sum_group_group_sums\n",
    "group_connection_matrix"
   ]
  },
  {
   "cell_type": "markdown",
   "metadata": {},
   "source": [
    "# layer 1 weight matrix (794.5184/1894.3873>5821/16627, homophily severe)"
   ]
  },
  {
   "cell_type": "code",
   "execution_count": null,
   "metadata": {},
   "outputs": [
    {
     "name": "stdout",
     "output_type": "stream",
     "text": [
      "tensor(indices=tensor([[    0,     0,     0,  ..., 29999, 29999, 29999],\n",
      "                       [    0,  9950, 23310,  ..., 16532, 24531, 29999]]),\n",
      "       values=tensor([0.2426, 0.1182, 0.0214,  ..., 0.0556, 0.1660, 0.1419]),\n",
      "       device='cuda:0', size=(30000, 30000), nnz=304754, layout=torch.sparse_coo)\n"
     ]
    }
   ],
   "source": [
    "import torch\n",
    "\n",
    "# Given adjacency matrix and attention weights\n",
    "adj_indices = adj.coalesce().indices().to(device)  # Get the indices from the adjacency matrix\n",
    "attn_weights1 = attn_weights[1].view(-1).to(device)  # Flatten the attention weights\n",
    "\n",
    "# Create a new sparse matrix with attention weights as values\n",
    "attn_matrix = torch.sparse_coo_tensor(indices=adj_indices, values=attn_weights1, size=adj.size())\n",
    "\n",
    "# Check the new sparse matrix\n",
    "print(attn_matrix)\n"
   ]
  },
  {
   "cell_type": "code",
   "execution_count": 44,
   "metadata": {},
   "outputs": [
    {
     "data": {
      "text/plain": [
       "tensor([[25420.6133,  1894.3873],\n",
       "        [ 1890.4816,   794.5184]], device='cuda:0')"
      ]
     },
     "execution_count": 44,
     "metadata": {},
     "output_type": "execute_result"
    }
   ],
   "source": [
    "group_sums = torch.zeros((n_unique_groups, adj.shape[1])).to(device)\n",
    "# Iterate over each group, summing the corresponding rows\n",
    "for i, group in enumerate(unique_groups):\n",
    "    group_mask = torch.tensor(groups == group)  # Boolean array where True indicates the index belongs to group i\n",
    "    group_indices = torch.nonzero(group_mask).squeeze(-1).to(torch.long).to(device)  # Get the indices of the group\n",
    "    group_adj = torch.index_select(attn_matrix, 0, group_indices)\n",
    "    group_sums[i] = group_adj.sum(dim=0).to_dense()\n",
    "\n",
    "group_connection_matrix = torch.zeros((n_unique_groups, n_unique_groups)).to(device)\n",
    "# Iterate over each group to perform the extraction and summation of corresponding columns\n",
    "for i, group in enumerate(unique_groups):\n",
    "    group_mask = torch.tensor(groups == group)  # Boolean array where True indicates the index belongs to group i\n",
    "    group_indices = torch.nonzero(group_mask).squeeze(-1).to(torch.long).to(device)  # Get the indices of the group\n",
    "    group_group_sums = torch.index_select(group_sums, 1, group_indices)\n",
    "    sum_group_group_sums = group_group_sums.sum(dim=1).to_dense()\n",
    "    group_connection_matrix[i] = sum_group_group_sums\n",
    "group_connection_matrix"
   ]
  },
  {
   "cell_type": "markdown",
   "metadata": {},
   "source": [
    "# compare fairness metric values"
   ]
  },
  {
   "cell_type": "code",
   "execution_count": 3,
   "metadata": {},
   "outputs": [
    {
     "data": {
      "text/plain": [
       "GCN(\n",
       "  (layers): ModuleList(\n",
       "    (0): GraphConv(in=12, out=16, normalization=both, activation=<function relu at 0x7ff452e1d3a0>)\n",
       "    (1): GraphConv(in=16, out=16, normalization=both, activation=None)\n",
       "  )\n",
       "  (mlp): Linear(in_features=16, out_features=2, bias=True)\n",
       "  (dropout): Dropout(p=0.5, inplace=False)\n",
       ")"
      ]
     },
     "execution_count": 3,
     "metadata": {},
     "output_type": "execute_result"
    }
   ],
   "source": [
    "sys.path.append('../..')\n",
    "from models.gcn import GCN\n",
    "sys.path.remove('../..')\n",
    "\n",
    "model_gcn = GCN(in_size, 16, out_size).to(device)\n",
    "\n",
    "# load the model\n",
    "model_gcn.load_state_dict(torch.load('../gcn/demo_credit_gcn.pth'))\n",
    "model_gcn.eval()"
   ]
  },
  {
   "cell_type": "code",
   "execution_count": 4,
   "metadata": {},
   "outputs": [
    {
     "name": "stdout",
     "output_type": "stream",
     "text": [
      "gcn metrics: [0.043859299277925534, 0.043859299277925534, 0.0020798538177058427, 0.004159707635411685, 0.004159707635411694, 0.004159707635411694, 0.005901151167273612, 0.005901151167273612]\n",
      "gat metrics: [0.04384886851822878, 0.04384886851822878, 0.03078867265887527, 0.06157734531775054, 0.061577345317750554, 0.061577345317750554, 0.06435533303268204, 0.06435533303268204]\n"
     ]
    }
   ],
   "source": [
    "sys.path.append('../../..')\n",
    "from pyeug.metrics import node_classification\n",
    "from pyeug.util import concatenate_elements\n",
    "sys.path.remove('../../..')\n",
    "\n",
    "vectorized_concat = np.vectorize(concatenate_elements)\n",
    "# Apply the vectorized function across columns\n",
    "sens_current = vectorized_concat(*sens)\n",
    "\n",
    "# gcn\n",
    "with torch.no_grad():\n",
    "    logits = model_gcn(g, features)\n",
    "predictions = torch.argmax(logits, dim=1).cpu().numpy()\n",
    "labels_np = labels.cpu().numpy()\n",
    "labeled_mask = labels_np != -1\n",
    "labeled_predictions = predictions[labeled_mask]\n",
    "labeled_labels = labels_np[labeled_mask]\n",
    "labeled_sens = sens_current[labeled_mask]\n",
    "gcn_metrics = [\n",
    "    node_classification.delta_std_acc(labeled_predictions, labeled_labels, labeled_sens),\n",
    "    node_classification.delta_max_acc(labeled_predictions, labeled_labels, labeled_sens),\n",
    "    node_classification.delta_std_eod(labeled_predictions, labeled_labels, labeled_sens),\n",
    "    node_classification.delta_max_eod(labeled_predictions, labeled_labels, labeled_sens),\n",
    "    node_classification.delta_std_eop(labeled_predictions, labeled_labels, labeled_sens),\n",
    "    node_classification.delta_max_eop(labeled_predictions, labeled_labels, labeled_sens),\n",
    "    node_classification.delta_std_sp(labeled_predictions, labeled_labels, labeled_sens),\n",
    "    node_classification.delta_max_sp(labeled_predictions, labeled_labels, labeled_sens),\n",
    "]\n",
    "print('gcn metrics:', gcn_metrics)\n",
    "\n",
    "# sage\n",
    "with torch.no_grad():\n",
    "    logits = model(g, features)\n",
    "predictions = torch.argmax(logits, dim=1).cpu().numpy()\n",
    "labels_np = labels.cpu().numpy()\n",
    "labeled_mask = labels_np != -1\n",
    "labeled_predictions = predictions[labeled_mask]\n",
    "labeled_labels = labels_np[labeled_mask]\n",
    "labeled_sens = sens_current[labeled_mask]\n",
    "gat_metrics = [\n",
    "    node_classification.delta_std_acc(labeled_predictions, labeled_labels, labeled_sens),\n",
    "    node_classification.delta_max_acc(labeled_predictions, labeled_labels, labeled_sens),\n",
    "    node_classification.delta_std_eod(labeled_predictions, labeled_labels, labeled_sens),\n",
    "    node_classification.delta_max_eod(labeled_predictions, labeled_labels, labeled_sens),\n",
    "    node_classification.delta_std_eop(labeled_predictions, labeled_labels, labeled_sens),\n",
    "    node_classification.delta_max_eop(labeled_predictions, labeled_labels, labeled_sens),\n",
    "    node_classification.delta_std_sp(labeled_predictions, labeled_labels, labeled_sens),\n",
    "    node_classification.delta_max_sp(labeled_predictions, labeled_labels, labeled_sens),\n",
    "]\n",
    "print('gat metrics:', gat_metrics)"
   ]
  },
  {
   "cell_type": "code",
   "execution_count": 14,
   "metadata": {},
   "outputs": [
    {
     "data": {
      "image/png": "[encoded data removed]",
      "text/plain": [
       "<Figure size 1000x600 with 1 Axes>"
      ]
     },
     "metadata": {},
     "output_type": "display_data"
    }
   ],
   "source": [
    "import matplotlib.pyplot as plt\n",
    "\n",
    "# Labels for the metrics\n",
    "labels = ['Acc(STD)', 'Acc(MAX)', 'EOD(STD)', 'EOD(MAX)', 'EOP(STD)', 'EOP(MAX)', 'SP(STD)', 'SP(MAX)']\n",
    "\n",
    "# Creating the plot\n",
    "fig, ax = plt.subplots(figsize=(10, 6))\n",
    "bar_width = 0.35\n",
    "index = range(len(labels))\n",
    "\n",
    "bar1 = ax.bar(index, gat_metrics, bar_width, label='GAT')\n",
    "bar2 = ax.bar([p + bar_width for p in index], gcn_metrics, bar_width, label='GCN')\n",
    "\n",
    "# Adding labels, title, and legend\n",
    "ax.set_xlabel('Metrics')\n",
    "ax.set_ylabel('Values')\n",
    "# ax.set_title('Comparison of GCN and GraphSAGE Metrics')\n",
    "ax.set_xticks([p + bar_width / 2 for p in index])\n",
    "ax.set_xticklabels(labels)\n",
    "ax.legend()\n",
    "\n",
    "# Show the plot\n",
    "# plt.xticks(rotation=45)\n",
    "plt.show()"
   ]
  },
  {
   "cell_type": "code",
   "execution_count": 9,
   "metadata": {},
   "outputs": [
    {
     "data": {
      "image/png": "[encoded data removed]",
      "text/plain": [
       "<Figure size 884x479 with 1 Axes>"
      ]
     },
     "metadata": {},
     "output_type": "display_data"
    }
   ],
   "source": [
    "import matplotlib.pyplot as plt\n",
    "\n",
    "\n",
    "# Labels for the metrics\n",
    "labels = ['Acc(STD)', 'Acc(MAX)', 'EOD(STD)', 'EOD(MAX)', 'EOP(STD)', 'EOP(MAX)', 'SP(STD)', 'SP(MAX)']\n",
    "\n",
    "# Creating the plot\n",
    "fig, ax = plt.subplots(figsize=(8.84, 4.79))  # Adjusted figure height for more compactness\n",
    "bar_width = 0.13  # Reduced bar width\n",
    "bar_spacing = 0.0  # Spacing between bars\n",
    "index = range(len(labels))\n",
    "index = list(map(lambda x: x / 3, index))  # Double the index to create space between the bars\n",
    "\n",
    "bar1 = ax.barh(index, gat_metrics, bar_width, label='GAT', color='#6E808C')\n",
    "bar2 = ax.barh([p + bar_width + bar_spacing for p in index], gcn_metrics, bar_width, label='GCN', color='#DAC5A9')\n",
    "\n",
    "# Adding labels, title, and legend\n",
    "ax.set_ylabel('Fairness Metrics', fontsize=18)\n",
    "ax.set_xlabel('Values', fontsize=18)\n",
    "ax.set_yticks([p + (bar_width + bar_spacing)/2 for p in index])\n",
    "ax.set_yticklabels(labels, fontsize=16)\n",
    "ax.tick_params(axis='x', labelsize=16)  # Set the font size for x-axis ticks\n",
    "ax.legend(fontsize=16)\n",
    "\n",
    "# Adjust the layout to be more compact\n",
    "plt.tight_layout()\n",
    "\n",
    "# Show the plot\n",
    "plt.show()\n"
   ]
  },
  {
   "cell_type": "code",
   "execution_count": null,
   "metadata": {},
   "outputs": [],
   "source": []
  }
 ],
 "metadata": {
  "kernelspec": {
   "display_name": "Python 3",
   "language": "python",
   "name": "python3"
  },
  "language_info": {
   "codemirror_mode": {
    "name": "ipython",
    "version": 3
   },
   "file_extension": ".py",
   "mimetype": "text/x-python",
   "name": "python",
   "nbconvert_exporter": "python",
   "pygments_lexer": "ipython3",
   "version": "3.11.4"
  }
 },
 "nbformat": 4,
 "nbformat_minor": 2
}
